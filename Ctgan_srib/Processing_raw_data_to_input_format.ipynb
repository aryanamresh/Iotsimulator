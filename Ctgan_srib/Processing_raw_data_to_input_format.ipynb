{
 "cells": [
  {
   "cell_type": "code",
   "execution_count": null,
   "metadata": {},
   "outputs": [],
   "source": [
    "import pandas as pd\n",
    "import numpy as np"
   ]
  },
  {
   "cell_type": "code",
   "execution_count": null,
   "metadata": {},
   "outputs": [],
   "source": [
    "#use your desired data set in the path\n",
    "path = \"aruba/data\"\n",
    "#name the various columns according to the data\n",
    "df = pd.read_csv(path, sep=\"\\s+|\\t+|\\s+\\t+|\\t+\\s+\", header=None, names=['date', 'time', 'sensorID', 'value', 'comment1', 'comment2'])"
   ]
  },
  {
   "cell_type": "code",
   "execution_count": null,
   "metadata": {
    "scrolled": false
   },
   "outputs": [],
   "source": [
    "df.head(5)"
   ]
  },
  {
   "cell_type": "code",
   "execution_count": null,
   "metadata": {},
   "outputs": [],
   "source": [
    "df.describe()"
   ]
  },
  {
   "cell_type": "code",
   "execution_count": null,
   "metadata": {},
   "outputs": [],
   "source": [
    "df = df.drop([\"comment1\", \"comment2\"], axis=1)\n",
    "df.head(5)\n",
    "#drop the unnecessary columns"
   ]
  },
  {
   "cell_type": "code",
   "execution_count": null,
   "metadata": {},
   "outputs": [],
   "source": [
    "df = df.replace({\"value\":{\"ON\":1, \"OFF\":0, \"OPEN\":1, \"CLOSE\":0}})\n",
    "df.head(5)"
   ]
  },
  {
   "cell_type": "code",
   "execution_count": null,
   "metadata": {},
   "outputs": [],
   "source": [
    "df = df.dropna()\n",
    "df.describe()"
   ]
  },
  {
   "cell_type": "code",
   "execution_count": null,
   "metadata": {},
   "outputs": [],
   "source": [
    "sensors = df[\"sensorID\"].unique().tolist()\n",
    "print(sensors)"
   ]
  },
  {
   "cell_type": "code",
   "execution_count": null,
   "metadata": {},
   "outputs": [],
   "source": [
    "print(df[df[\"sensorID\"]==\"LEAVEHOME\"])"
   ]
  },
  {
   "cell_type": "code",
   "execution_count": null,
   "metadata": {},
   "outputs": [],
   "source": [
    "sensorsDict = {}\n",
    "count = 1\n",
    "for sen in sensors:\n",
    "    sensorsDict[sen] = count\n",
    "    count = count+1\n",
    "print(sensorsDict)"
   ]
  },
  {
   "cell_type": "code",
   "execution_count": null,
   "metadata": {},
   "outputs": [],
   "source": [
    "df = df.replace({\"sensorID\":sensorsDict})\n",
    "df.head(5)"
   ]
  },
  {
   "cell_type": "code",
   "execution_count": null,
   "metadata": {},
   "outputs": [],
   "source": [
    "dates = df[\"date\"].unique().tolist()\n",
    "datesDict = {}\n",
    "count=0\n",
    "for date in dates:\n",
    "    datesDict[date]=count\n",
    "    count = count+1\n",
    "    \n",
    "df = df.replace({\"date\":datesDict})\n",
    "df.head(5)"
   ]
  },
  {
   "cell_type": "code",
   "execution_count": null,
   "metadata": {},
   "outputs": [],
   "source": [
    "arr = df[\"time\"].tolist()\n",
    "\n",
    "for i in range(len(arr)):\n",
    "    h, m, s = arr[i].split(':')\n",
    "    sec = int(df['date'][i])*86400 + int(h)*3600 + int(m)*60 + float(s)\n",
    "    arr[i] = sec\n",
    "    "
   ]
  },
  {
   "cell_type": "code",
   "execution_count": null,
   "metadata": {},
   "outputs": [],
   "source": [
    "df[\"time\"] = pd.Series(arr)\n",
    "df.head(5)"
   ]
  },
  {
   "cell_type": "code",
   "execution_count": null,
   "metadata": {},
   "outputs": [],
   "source": [
    "df.tail(10)"
   ]
  },
  {
   "cell_type": "code",
   "execution_count": null,
   "metadata": {},
   "outputs": [],
   "source": [
    "df = df.drop([\"date\"], axis=1)\n",
    "df.head(5)"
   ]
  },
  {
   "cell_type": "code",
   "execution_count": null,
   "metadata": {},
   "outputs": [],
   "source": [
    "df[df[\"value\"]==\"OPENc\"]"
   ]
  },
  {
   "cell_type": "code",
   "execution_count": null,
   "metadata": {},
   "outputs": [],
   "source": [
    "df = df.replace({'value':{\"OPENc\":1, \"ONc\":1, \"OFFc\":0, \"OFF5\":0, \"OFcF\":0, \"ON5\":1, \"ON55\":1, \"OFFcc\":0, \"OFF5cc\":0, \"OFF5c\":0, \"ON5c\":1, \"28.55c\":28.55, \"OFFc5\":0, \"ONcc\":1, \"ONc5c\":1, \"26cc\":26, \"ONc5\":1, \"OcFF\":0, \"OFFccc5\":0, \"O\":1, \"OF\":0, \"ONM026\":1, \"ONM009\":1, \"ONM024\":1, \"CLOSED\":0}})\n",
    "\n",
    "convert_dict = {'time': float, \n",
    "                'sensorID': int,\n",
    "                'value': float\n",
    "               } \n",
    "  \n",
    "df = df.astype(convert_dict) \n",
    "print(df.dtypes) "
   ]
  },
  {
   "cell_type": "code",
   "execution_count": null,
   "metadata": {},
   "outputs": [],
   "source": [
    "file_name = \"input_file.csv\"\n",
    "df.to_csv(file_name, encoding='utf-8', index=False)\n",
    "#lastly save the data to your desired file name , your input is ready"
   ]
  }
 ],
 "metadata": {
  "kernelspec": {
   "display_name": "Python 3",
   "language": "python",
   "name": "python3"
  },
  "language_info": {
   "codemirror_mode": {
    "name": "ipython",
    "version": 3
   },
   "file_extension": ".py",
   "mimetype": "text/x-python",
   "name": "python",
   "nbconvert_exporter": "python",
   "pygments_lexer": "ipython3",
   "version": "3.7.6"
  }
 },
 "nbformat": 4,
 "nbformat_minor": 2
}
