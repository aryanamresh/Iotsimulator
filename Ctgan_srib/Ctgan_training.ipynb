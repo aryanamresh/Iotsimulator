{
 "cells": [
  {
   "cell_type": "code",
   "execution_count": null,
   "metadata": {
    "colab": {
     "base_uri": "https://localhost:8080/",
     "height": 490
    },
    "colab_type": "code",
    "executionInfo": {
     "elapsed": 13706,
     "status": "ok",
     "timestamp": 1592895938095,
     "user": {
      "displayName": "Aryan Amresh",
      "photoUrl": "",
      "userId": "18087267284134483245"
     },
     "user_tz": -330
    },
    "id": "l8kvRPQ8q9Yw",
    "outputId": "dac32970-c731-4768-8419-dad5f7192260"
   },
   "outputs": [],
   "source": [
    "pip install ctgan\n",
    "#import ctagn necessary library"
   ]
  },
  {
   "cell_type": "code",
   "execution_count": null,
   "metadata": {
    "colab": {},
    "colab_type": "code",
    "executionInfo": {
     "elapsed": 15246,
     "status": "ok",
     "timestamp": 1592895939639,
     "user": {
      "displayName": "Aryan Amresh",
      "photoUrl": "",
      "userId": "18087267284134483245"
     },
     "user_tz": -330
    },
    "id": "ielwSXXXr7eV"
   },
   "outputs": [],
   "source": [
    "import pandas as pd\n",
    "path=\"input.csv\"\n",
    "df = pd.read_csv(path)\n",
    "# use the path as present in your output"
   ]
  },
  {
   "cell_type": "code",
   "execution_count": null,
   "metadata": {
    "colab": {},
    "colab_type": "code",
    "executionInfo": {
     "elapsed": 15245,
     "status": "ok",
     "timestamp": 1592895939640,
     "user": {
      "displayName": "Aryan Amresh",
      "photoUrl": "",
      "userId": "18087267284134483245"
     },
     "user_tz": -330
    },
    "id": "j4kythBasIgK"
   },
   "outputs": [],
   "source": [
    "discrete_columns = [\n",
    "    'sensorID'\n",
    "]\n",
    "# provide the names of discrete columns"
   ]
  },
  {
   "cell_type": "code",
   "execution_count": null,
   "metadata": {
    "colab": {},
    "colab_type": "code",
    "executionInfo": {
     "elapsed": 19088,
     "status": "ok",
     "timestamp": 1592895943485,
     "user": {
      "displayName": "Aryan Amresh",
      "photoUrl": "",
      "userId": "18087267284134483245"
     },
     "user_tz": -330
    },
    "id": "B4ER7fthsM5s"
   },
   "outputs": [],
   "source": [
    "from ctgan import CTGANSynthesizer\n",
    "\n",
    "ctgan = CTGANSynthesizer()\n",
    "ctgan.batch_size=10000\n",
    "#set batch size according to the input data , for a speed running"
   ]
  },
  {
   "cell_type": "code",
   "execution_count": null,
   "metadata": {
    "colab": {
     "base_uri": "https://localhost:8080/",
     "height": 1000
    },
    "colab_type": "code",
    "executionInfo": {
     "elapsed": 21880837,
     "status": "ok",
     "timestamp": 1592308811707,
     "user": {
      "displayName": "Aryan Amresh",
      "photoUrl": "",
      "userId": "18087267284134483245"
     },
     "user_tz": -330
    },
    "id": "cRXuMe9Wseh7",
    "outputId": "6d8c35d4-99b5-4d82-a6ce-5716904a66e5"
   },
   "outputs": [],
   "source": [
    "ctgan.fit(df, discrete_columns,epochs=100000)\n",
    "#set your epochs value"
   ]
  },
  {
   "cell_type": "code",
   "execution_count": null,
   "metadata": {
    "colab": {
     "base_uri": "https://localhost:8080/",
     "height": 339
    },
    "colab_type": "code",
    "executionInfo": {
     "elapsed": 6343119,
     "status": "ok",
     "timestamp": 1592902320579,
     "user": {
      "displayName": "Aryan Amresh",
      "photoUrl": "",
      "userId": "18087267284134483245"
     },
     "user_tz": -330
    },
    "id": "OUmf467nsmd7",
    "outputId": "814187a7-390f-4e8c-bad5-068e965f34ad"
   },
   "outputs": [],
   "source": [
    "pip install pandas==1.0.1"
   ]
  },
  {
   "cell_type": "code",
   "execution_count": null,
   "metadata": {
    "colab": {},
    "colab_type": "code",
    "executionInfo": {
     "elapsed": 2338,
     "status": "ok",
     "timestamp": 1592902322928,
     "user": {
      "displayName": "Aryan Amresh",
      "photoUrl": "",
      "userId": "18087267284134483245"
     },
     "user_tz": -330
    },
    "id": "pdx6NLC8srIW"
   },
   "outputs": [],
   "source": [
    "import pandas as pd\n",
    "samples=ctgan.sample(len(df))\n",
    "path = \"/content/drive/My Drive/srib/output.csv\"\n",
    "samples.to_csv(path, encoding='utf-8', index=False)\n",
    "# generate sample and save model to your drive , dont forget to moubt drive if using colab\n",
    "# if not required to save on drive use different path name"
   ]
  },
  {
   "cell_type": "code",
   "execution_count": null,
   "metadata": {
    "colab": {},
    "colab_type": "code",
    "executionInfo": {
     "elapsed": 5054,
     "status": "ok",
     "timestamp": 1592902325655,
     "user": {
      "displayName": "Aryan Amresh",
      "photoUrl": "",
      "userId": "18087267284134483245"
     },
     "user_tz": -330
    },
    "id": "VwGoc1bcs0ta"
   },
   "outputs": [],
   "source": [
    "import torch\n",
    "torch.save(ctgan,'single_device_test_disc')\n",
    "!cp /content/single_device_test_disc /content/drive/My\\ Drive/models\n",
    "# save your model for future reference"
   ]
  },
  {
   "cell_type": "code",
   "execution_count": null,
   "metadata": {
    "colab": {},
    "colab_type": "code",
    "id": "nm5-3COvtALl"
   },
   "outputs": [],
   "source": []
  }
 ],
 "metadata": {
  "accelerator": "GPU",
  "colab": {
   "authorship_tag": "ABX9TyMqd0s3kga/4lVNNsWJxUox",
   "collapsed_sections": [],
   "mount_file_id": "1kUulw9blMlvjdS7QT2Xsz4IQCc-YQhPa",
   "name": "Untitled2.ipynb",
   "provenance": []
  },
  "kernelspec": {
   "display_name": "Python 3",
   "language": "python",
   "name": "python3"
  },
  "language_info": {
   "codemirror_mode": {
    "name": "ipython",
    "version": 3
   },
   "file_extension": ".py",
   "mimetype": "text/x-python",
   "name": "python",
   "nbconvert_exporter": "python",
   "pygments_lexer": "ipython3",
   "version": "3.7.6"
  }
 },
 "nbformat": 4,
 "nbformat_minor": 1
}
