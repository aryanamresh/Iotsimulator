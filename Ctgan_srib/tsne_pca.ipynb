{
 "cells": [
  {
   "cell_type": "code",
   "execution_count": null,
   "metadata": {
    "colab": {
     "base_uri": "https://localhost:8080/",
     "height": 201
    },
    "colab_type": "code",
    "executionInfo": {
     "elapsed": 23346,
     "status": "ok",
     "timestamp": 1592892403314,
     "user": {
      "displayName": "Aryan Amresh",
      "photoUrl": "",
      "userId": "18087267284134483245"
     },
     "user_tz": -330
    },
    "id": "KxeK8vwWYIdi",
    "outputId": "be30eee2-e133-409d-c579-a602419d7844"
   },
   "outputs": [],
   "source": [
    "!wget https://bitbucket.org/mvdschaar/mlforhealthlabpub/get/02edab3b2b6d.zip\n",
    "# repo of the tgan model for plotting tsne pca"
   ]
  },
  {
   "cell_type": "code",
   "execution_count": null,
   "metadata": {
    "colab": {
     "base_uri": "https://localhost:8080/",
     "height": 1000
    },
    "colab_type": "code",
    "executionInfo": {
     "elapsed": 5596,
     "status": "ok",
     "timestamp": 1592892411379,
     "user": {
      "displayName": "Aryan Amresh",
      "photoUrl": "",
      "userId": "18087267284134483245"
     },
     "user_tz": -330
    },
    "id": "oqNl8FlL0PJw",
    "outputId": "2c81bb10-62f5-4235-95a1-fab9a7866185"
   },
   "outputs": [],
   "source": [
    "!unzip 02edab3b2b6d.zip"
   ]
  },
  {
   "cell_type": "code",
   "execution_count": null,
   "metadata": {
    "colab": {
     "base_uri": "https://localhost:8080/",
     "height": 1000
    },
    "colab_type": "code",
    "executionInfo": {
     "elapsed": 75924,
     "status": "ok",
     "timestamp": 1592892491393,
     "user": {
      "displayName": "Aryan Amresh",
      "photoUrl": "",
      "userId": "18087267284134483245"
     },
     "user_tz": -330
    },
    "id": "_SWBFVuCYabG",
    "outputId": "3b0f63c8-ce7c-4deb-bd18-4e2d20b945e6"
   },
   "outputs": [],
   "source": [
    "!pip install tensorflow==1.10"
   ]
  },
  {
   "cell_type": "code",
   "execution_count": null,
   "metadata": {
    "colab": {
     "base_uri": "https://localhost:8080/",
     "height": 33
    },
    "colab_type": "code",
    "executionInfo": {
     "elapsed": 1420,
     "status": "ok",
     "timestamp": 1592893139647,
     "user": {
      "displayName": "Aryan Amresh",
      "photoUrl": "",
      "userId": "18087267284134483245"
     },
     "user_tz": -330
    },
    "id": "YiEp8TXMYlHN",
    "outputId": "a3be5ac6-2986-44cd-dd9a-072293a83f85"
   },
   "outputs": [],
   "source": [
    "%cd /content/mvdschaar-mlforhealthlabpub-02edab3b2b6d/alg/timegan/"
   ]
  },
  {
   "cell_type": "code",
   "execution_count": null,
   "metadata": {
    "colab": {},
    "colab_type": "code",
    "executionInfo": {
     "elapsed": 4829,
     "status": "ok",
     "timestamp": 1592892540599,
     "user": {
      "displayName": "Aryan Amresh",
      "photoUrl": "",
      "userId": "18087267284134483245"
     },
     "user_tz": -330
    },
    "id": "fRZhVdZVZANJ"
   },
   "outputs": [],
   "source": [
    "!cp /content/drive/My\\ Drive/srib/single_device1.csv /content/mvdschaar-mlforhealthlabpub-02edab3b2b6d/alg/timegan/data\n",
    "#copying our input data from goodle drive please change path according to your convenience"
   ]
  },
  {
   "cell_type": "code",
   "execution_count": null,
   "metadata": {
    "colab": {},
    "colab_type": "code",
    "executionInfo": {
     "elapsed": 13739,
     "status": "ok",
     "timestamp": 1592892578277,
     "user": {
      "displayName": "Aryan Amresh",
      "photoUrl": "",
      "userId": "18087267284134483245"
     },
     "user_tz": -330
    },
    "id": "jRbNaoNxZxeI"
   },
   "outputs": [],
   "source": [
    "!cp /content/drive/My\\ Drive/srib/modified_single_device1.csv /content/mvdschaar-mlforhealthlabpub-02edab3b2b6d/alg/timegan/data\n",
    "# copying output file"
   ]
  },
  {
   "cell_type": "code",
   "execution_count": null,
   "metadata": {},
   "outputs": [],
   "source": [
    "% run main.py\n",
    "# plotting tsne and pca\n",
    "# please modify the main.py in the time gan repo with the main_tsne.py file given\n",
    "# please modify the data_loading.py as data_loading_tsne.py present"
   ]
  }
 ],
 "metadata": {
  "accelerator": "GPU",
  "colab": {
   "authorship_tag": "ABX9TyPKR8c7aVwz1gEO6NSbhNyi",
   "collapsed_sections": [],
   "mount_file_id": "1_ibMo44vQNl7ULLs3csAtldSE91twwph",
   "name": "tsne_pca.ipynb",
   "provenance": []
  },
  "kernelspec": {
   "display_name": "Python 3",
   "language": "python",
   "name": "python3"
  },
  "language_info": {
   "codemirror_mode": {
    "name": "ipython",
    "version": 3
   },
   "file_extension": ".py",
   "mimetype": "text/x-python",
   "name": "python",
   "nbconvert_exporter": "python",
   "pygments_lexer": "ipython3",
   "version": "3.7.6"
  }
 },
 "nbformat": 4,
 "nbformat_minor": 1
}
