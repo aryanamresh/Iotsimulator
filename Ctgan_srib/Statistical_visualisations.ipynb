{
 "cells": [
  {
   "cell_type": "code",
   "execution_count": null,
   "metadata": {},
   "outputs": [],
   "source": [
    "import pandas as pd\n",
    "import numpy as np\n",
    "# please modify the input.csv as your input data and modified_output.csv as your modified output data "
   ]
  },
  {
   "cell_type": "code",
   "execution_count": null,
   "metadata": {},
   "outputs": [],
   "source": [
    "data= pd.read_csv(\"input.csv\")"
   ]
  },
  {
   "cell_type": "code",
   "execution_count": null,
   "metadata": {},
   "outputs": [],
   "source": [
    "arr = data[\"sensorID\"].tolist()"
   ]
  },
  {
   "cell_type": "code",
   "execution_count": null,
   "metadata": {},
   "outputs": [],
   "source": [
    "print(max(arr))\n",
    "list1=[]\n",
    "list2=[]\n",
    "list3=[]"
   ]
  },
  {
   "cell_type": "code",
   "execution_count": null,
   "metadata": {},
   "outputs": [],
   "source": [
    "for i in range (1,39):\n",
    "    for j in range (i+1,39):\n",
    "        previ=0\n",
    "        prevj=0\n",
    "        ans=0\n",
    "        tot=0\n",
    "        for k in range (len(arr)):\n",
    "            if arr[k]==i :\n",
    "                ans=ans+k-prevj\n",
    "                previ=k\n",
    "                tot=tot+1\n",
    "            if arr[k]==j :\n",
    "                ans=ans+k-previ\n",
    "                prevj=k\n",
    "                tot=tot+1\n",
    "        ans=ans/tot\n",
    "        list1.append(i)\n",
    "        list2.append(j)\n",
    "        list3.append(ans)\n",
    "        "
   ]
  },
  {
   "cell_type": "code",
   "execution_count": null,
   "metadata": {},
   "outputs": [],
   "source": [
    "for i in range (len(list1)):\n",
    "    print(list1[i],list2[i],int(list3[i]))\n",
    "#list of average logs between devices input"
   ]
  },
  {
   "cell_type": "code",
   "execution_count": null,
   "metadata": {},
   "outputs": [],
   "source": [
    "data= pd.read_csv(\"output_modified.csv\")"
   ]
  },
  {
   "cell_type": "code",
   "execution_count": null,
   "metadata": {},
   "outputs": [],
   "source": [
    "arr = data[\"sensorID\"].tolist()"
   ]
  },
  {
   "cell_type": "code",
   "execution_count": null,
   "metadata": {},
   "outputs": [],
   "source": [
    "print(max(arr))\n",
    "list11=[]\n",
    "list22=[]\n",
    "list33=[]"
   ]
  },
  {
   "cell_type": "code",
   "execution_count": null,
   "metadata": {},
   "outputs": [],
   "source": [
    "for i in range (1,39):\n",
    "    for j in range (i+1,39):\n",
    "        previ=0\n",
    "        prevj=0\n",
    "        ans=0\n",
    "        tot=0\n",
    "        for k in range (len(arr)):\n",
    "            if arr[k]==i :\n",
    "                ans=ans+k-prevj\n",
    "                previ=k\n",
    "                tot=tot+1\n",
    "            if arr[k]==j :\n",
    "                ans=ans+k-previ\n",
    "                prevj=k\n",
    "                tot=tot+1\n",
    "        ans=ans/tot\n",
    "        list11.append(i)\n",
    "        list22.append(j)\n",
    "        list33.append(ans)"
   ]
  },
  {
   "cell_type": "code",
   "execution_count": null,
   "metadata": {},
   "outputs": [],
   "source": [
    "for i in range (len(list1)):\n",
    "    print(list11[i],list22[i],int(list33[i]))\n",
    "#list of the average logs between devices output"
   ]
  },
  {
   "cell_type": "code",
   "execution_count": null,
   "metadata": {},
   "outputs": [],
   "source": [
    "plt.scatter(range(len(list3)),list3,label='input')\n",
    "plt.scatter(range(len(list33)),list33,label='output')\n",
    "plt.legend()\n",
    "\n",
    "#plotting for the average logs between two devices for correlation"
   ]
  },
  {
   "cell_type": "code",
   "execution_count": null,
   "metadata": {},
   "outputs": [],
   "source": [
    "listinp=[]\n",
    "listout=[]"
   ]
  },
  {
   "cell_type": "code",
   "execution_count": null,
   "metadata": {},
   "outputs": [],
   "source": [
    "for i in range (0,40):\n",
    "    listinp.append(0)\n",
    "    listout.append(0)"
   ]
  },
  {
   "cell_type": "code",
   "execution_count": null,
   "metadata": {},
   "outputs": [],
   "source": [
    "for i in range (len(arr)):\n",
    "    pp=int(arr[i])\n",
    "    listout[pp]=listout[pp]+1"
   ]
  },
  {
   "cell_type": "code",
   "execution_count": null,
   "metadata": {},
   "outputs": [],
   "source": [
    "data= pd.read_csv(\"input.csv\")\n",
    "arr = data[\"sensorID\"].tolist()\n",
    "for i in range (len(arr)):\n",
    "    pp=int(arr[i])\n",
    "    listinp[pp]=listinp[pp]+1"
   ]
  },
  {
   "cell_type": "code",
   "execution_count": null,
   "metadata": {},
   "outputs": [],
   "source": [
    "plt.scatter(range(len(listout)),listout,label='input')\n",
    "plt.scatter(range(len(listinp)),listinp,label='output')\n",
    "plt.legend()\n",
    "#plot for the total logs being produced for each device"
   ]
  },
  {
   "cell_type": "code",
   "execution_count": null,
   "metadata": {},
   "outputs": [],
   "source": [
    "import pandas as pd\n",
    "import numpy as np\n",
    "datai= pd.read_csv(\"input.csv\")\n",
    "datao= pd.read_csv(\"modified_output.csv\")"
   ]
  },
  {
   "cell_type": "code",
   "execution_count": null,
   "metadata": {},
   "outputs": [],
   "source": [
    "datai.head(5)"
   ]
  },
  {
   "cell_type": "code",
   "execution_count": null,
   "metadata": {},
   "outputs": [],
   "source": [
    "datao.head(5)"
   ]
  },
  {
   "cell_type": "code",
   "execution_count": null,
   "metadata": {},
   "outputs": [],
   "source": [
    "arrinpid = datai[\"sensorID\"].tolist()"
   ]
  },
  {
   "cell_type": "code",
   "execution_count": null,
   "metadata": {},
   "outputs": [],
   "source": [
    "arroutid = datao[\"sensorID\"].tolist()"
   ]
  },
  {
   "cell_type": "code",
   "execution_count": null,
   "metadata": {},
   "outputs": [],
   "source": [
    "arrinval = datai[\"value\"].tolist()"
   ]
  },
  {
   "cell_type": "code",
   "execution_count": null,
   "metadata": {},
   "outputs": [],
   "source": [
    "arroutval= datao[\"value\"].tolist()"
   ]
  },
  {
   "cell_type": "code",
   "execution_count": null,
   "metadata": {},
   "outputs": [],
   "source": [
    "from matplotlib import pyplot as plt\n",
    "plt.scatter(arrinpid,arrinval,label='input')\n",
    "plt.scatter(arroutid,arroutval,label='output')\n",
    "plt.legend()"
   ]
  },
  {
   "cell_type": "code",
   "execution_count": null,
   "metadata": {},
   "outputs": [],
   "source": [
    "from matplotlib import pyplot as plt\n",
    "plt.scatter(arroutid,arroutval,label='output')\n",
    "plt.scatter(arrinpid,arrinval,label='input')\n",
    "\n",
    "plt.legend()\n",
    "#plots for the range of value being produced by devices"
   ]
  },
  {
   "cell_type": "code",
   "execution_count": null,
   "metadata": {},
   "outputs": [],
   "source": [
    "datai=datai.sample(n=1000)\n",
    "datao=datao.sample(n=1000)"
   ]
  },
  {
   "cell_type": "code",
   "execution_count": null,
   "metadata": {},
   "outputs": [],
   "source": [
    "import pandas as pd\n",
    "import numpy as np\n",
    "datai= pd.read_csv(\"input.csv\")\n",
    "datao= pd.read_csv(\"modefied_output.csv\")\n",
    "arroutid = datao[\"sensorID\"].tolist()\n",
    "arroutval= datao[\"value\"].tolist()"
   ]
  },
  {
   "cell_type": "code",
   "execution_count": null,
   "metadata": {},
   "outputs": [],
   "source": [
    "arrin=datai[\"sensorID\"].tolist()\n",
    "arrinval=datai[\"value\"].tolist()"
   ]
  },
  {
   "cell_type": "code",
   "execution_count": null,
   "metadata": {},
   "outputs": [],
   "source": [
    "listp=[]"
   ]
  },
  {
   "cell_type": "code",
   "execution_count": null,
   "metadata": {},
   "outputs": [],
   "source": [
    "for i in range (0,42):\n",
    "    listp.append(0)"
   ]
  },
  {
   "cell_type": "code",
   "execution_count": null,
   "metadata": {},
   "outputs": [],
   "source": [
    "for i in range (len(arrinval)):\n",
    "    if arrinval[i]==1.0 or arrinval[i]==0.0:\n",
    "        pp=int(arrin[i])\n",
    "        listp[pp]=0\n",
    "    else :\n",
    "        ppp=int(arrin[i])\n",
    "        listp[ppp]=1"
   ]
  },
  {
   "cell_type": "code",
   "execution_count": null,
   "metadata": {},
   "outputs": [],
   "source": [
    "for i in range (len(listp)):\n",
    "    print(listp[i])"
   ]
  },
  {
   "cell_type": "code",
   "execution_count": null,
   "metadata": {},
   "outputs": [],
   "source": [
    "ans=0\n",
    "for i in range (len(arroutid)):\n",
    "    pp=int(arroutid[i])\n",
    "    qq=arroutval[i]\n",
    "    if listp[pp]==0:\n",
    "        if qq>1.0:\n",
    "            ans=ans+1\n",
    "    else:\n",
    "        if qq<=1.0:\n",
    "            ans=ans+1"
   ]
  },
  {
   "cell_type": "code",
   "execution_count": null,
   "metadata": {},
   "outputs": [],
   "source": [
    "print(ans)"
   ]
  },
  {
   "cell_type": "code",
   "execution_count": null,
   "metadata": {},
   "outputs": [],
   "source": [
    "ans=ans*100"
   ]
  },
  {
   "cell_type": "code",
   "execution_count": null,
   "metadata": {},
   "outputs": [],
   "source": [
    "ans=ans/len(arroutid)"
   ]
  },
  {
   "cell_type": "code",
   "execution_count": null,
   "metadata": {},
   "outputs": [],
   "source": [
    "print(ans)"
   ]
  },
  {
   "cell_type": "code",
   "execution_count": null,
   "metadata": {},
   "outputs": [],
   "source": [
    "prev=[]\n",
    "tot=[]\n",
    "change=[]\n",
    "for i in range (0,40):\n",
    "    prev.append(0)\n",
    "    tot.append(0)\n",
    "    change.append(0)"
   ]
  },
  {
   "cell_type": "code",
   "execution_count": null,
   "metadata": {},
   "outputs": [],
   "source": [
    "for i in range (len(arroutid)):\n",
    "    pp=int(arroutid[i])\n",
    "    qq=arroutval[i]\n",
    "    if qq!=prev[pp]:\n",
    "        change[pp]=change[pp]+1\n",
    "    prev[pp]=qq\n",
    "    tot[pp]=tot[pp]+1"
   ]
  },
  {
   "cell_type": "code",
   "execution_count": null,
   "metadata": {},
   "outputs": [],
   "source": [
    "print(tot[3],change[3])"
   ]
  },
  {
   "cell_type": "code",
   "execution_count": null,
   "metadata": {},
   "outputs": [],
   "source": [
    "tott=0\n",
    "changee=0\n",
    "for i in range (7,40):\n",
    "    tott=tott+tot[i]\n",
    "    changee=changee+change[i]"
   ]
  },
  {
   "cell_type": "code",
   "execution_count": null,
   "metadata": {},
   "outputs": [],
   "source": [
    "ss=changee/tott"
   ]
  },
  {
   "cell_type": "code",
   "execution_count": null,
   "metadata": {},
   "outputs": [],
   "source": [
    "ss=ss*100"
   ]
  },
  {
   "cell_type": "code",
   "execution_count": null,
   "metadata": {},
   "outputs": [],
   "source": [
    "print(\"id\",\"expected\",\"tot\",\"percent_change\")\n",
    "for i in range (7,40):\n",
    "    print(i,tot[i],change[i],(change[i]/tot[i])*100)\n",
    "print()\n",
    "print()\n",
    "print(\"total expected changes= \",tott)\n",
    "print(\"actual changes= \",changee)\n",
    "print(\"percentage= \",ss)\n",
    "\n",
    "from matplotlib import pyplot as plt\n",
    "plt.scatter(range(len(tot)),tot,label='expected')\n",
    "plt.scatter(range(len(change)),change,label='output')\n",
    "\n",
    "plt.legend()\n",
    "#plots for changing of alternate logs of discrete devices"
   ]
  }
 ],
 "metadata": {
  "kernelspec": {
   "display_name": "Python 3",
   "language": "python",
   "name": "python3"
  },
  "language_info": {
   "codemirror_mode": {
    "name": "ipython",
    "version": 3
   },
   "file_extension": ".py",
   "mimetype": "text/x-python",
   "name": "python",
   "nbconvert_exporter": "python",
   "pygments_lexer": "ipython3",
   "version": "3.7.6"
  }
 },
 "nbformat": 4,
 "nbformat_minor": 4
}
